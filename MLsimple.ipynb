{
 "cells": [
  {
   "cell_type": "markdown",
   "metadata": {},
   "source": [
    "## Loading data"
   ]
  },
  {
   "cell_type": "code",
   "execution_count": 1,
   "metadata": {},
   "outputs": [],
   "source": [
    "# Importing libraries\n",
    "\n",
    "import pandas as pd\n",
    "import matplotlib.pyplot as plt\n",
    "\n",
    "%matplotlib inline\n",
    "\n",
    "# Loading data\n",
    "df = pd.read_csv(\"data/final_dataset.csv\")"
   ]
  },
  {
   "cell_type": "markdown",
   "metadata": {},
   "source": [
    "## Showing data"
   ]
  },
  {
   "cell_type": "code",
   "execution_count": 2,
   "metadata": {},
   "outputs": [
    {
     "data": {
      "text/html": [
       "<div>\n",
       "<style>\n",
       "    .dataframe thead tr:only-child th {\n",
       "        text-align: right;\n",
       "    }\n",
       "\n",
       "    .dataframe thead th {\n",
       "        text-align: left;\n",
       "    }\n",
       "\n",
       "    .dataframe tbody tr th {\n",
       "        vertical-align: top;\n",
       "    }\n",
       "</style>\n",
       "<table border=\"1\" class=\"dataframe\">\n",
       "  <thead>\n",
       "    <tr style=\"text-align: right;\">\n",
       "      <th></th>\n",
       "      <th>Unnamed: 0</th>\n",
       "      <th>Date</th>\n",
       "      <th>HomeTeam</th>\n",
       "      <th>AwayTeam</th>\n",
       "      <th>FTHG</th>\n",
       "      <th>FTAG</th>\n",
       "      <th>FTR</th>\n",
       "      <th>HTGS</th>\n",
       "      <th>ATGS</th>\n",
       "      <th>HTGC</th>\n",
       "      <th>...</th>\n",
       "      <th>HTLossStreak5</th>\n",
       "      <th>ATWinStreak3</th>\n",
       "      <th>ATWinStreak5</th>\n",
       "      <th>ATLossStreak3</th>\n",
       "      <th>ATLossStreak5</th>\n",
       "      <th>HTGD</th>\n",
       "      <th>ATGD</th>\n",
       "      <th>DiffPts</th>\n",
       "      <th>DiffFormPts</th>\n",
       "      <th>DiffLP</th>\n",
       "    </tr>\n",
       "  </thead>\n",
       "  <tbody>\n",
       "    <tr>\n",
       "      <th>6075</th>\n",
       "      <td>6075</td>\n",
       "      <td>2016-05-15</td>\n",
       "      <td>Stoke</td>\n",
       "      <td>West Ham</td>\n",
       "      <td>2</td>\n",
       "      <td>1</td>\n",
       "      <td>H</td>\n",
       "      <td>39</td>\n",
       "      <td>64</td>\n",
       "      <td>54</td>\n",
       "      <td>...</td>\n",
       "      <td>0</td>\n",
       "      <td>0</td>\n",
       "      <td>0</td>\n",
       "      <td>0</td>\n",
       "      <td>0</td>\n",
       "      <td>-0.394737</td>\n",
       "      <td>0.394737</td>\n",
       "      <td>-0.368421</td>\n",
       "      <td>-0.236842</td>\n",
       "      <td>-3.0</td>\n",
       "    </tr>\n",
       "    <tr>\n",
       "      <th>6076</th>\n",
       "      <td>6076</td>\n",
       "      <td>2016-05-15</td>\n",
       "      <td>Swansea</td>\n",
       "      <td>Man City</td>\n",
       "      <td>1</td>\n",
       "      <td>1</td>\n",
       "      <td>NH</td>\n",
       "      <td>41</td>\n",
       "      <td>70</td>\n",
       "      <td>51</td>\n",
       "      <td>...</td>\n",
       "      <td>0</td>\n",
       "      <td>0</td>\n",
       "      <td>0</td>\n",
       "      <td>0</td>\n",
       "      <td>0</td>\n",
       "      <td>-0.263158</td>\n",
       "      <td>0.789474</td>\n",
       "      <td>-0.500000</td>\n",
       "      <td>0.026316</td>\n",
       "      <td>6.0</td>\n",
       "    </tr>\n",
       "    <tr>\n",
       "      <th>6077</th>\n",
       "      <td>6077</td>\n",
       "      <td>2016-05-15</td>\n",
       "      <td>Watford</td>\n",
       "      <td>Sunderland</td>\n",
       "      <td>2</td>\n",
       "      <td>2</td>\n",
       "      <td>NH</td>\n",
       "      <td>38</td>\n",
       "      <td>46</td>\n",
       "      <td>48</td>\n",
       "      <td>...</td>\n",
       "      <td>0</td>\n",
       "      <td>0</td>\n",
       "      <td>0</td>\n",
       "      <td>0</td>\n",
       "      <td>0</td>\n",
       "      <td>-0.263158</td>\n",
       "      <td>-0.368421</td>\n",
       "      <td>0.157895</td>\n",
       "      <td>-0.131579</td>\n",
       "      <td>2.0</td>\n",
       "    </tr>\n",
       "    <tr>\n",
       "      <th>6078</th>\n",
       "      <td>6078</td>\n",
       "      <td>2016-05-15</td>\n",
       "      <td>West Brom</td>\n",
       "      <td>Liverpool</td>\n",
       "      <td>1</td>\n",
       "      <td>1</td>\n",
       "      <td>NH</td>\n",
       "      <td>33</td>\n",
       "      <td>62</td>\n",
       "      <td>47</td>\n",
       "      <td>...</td>\n",
       "      <td>0</td>\n",
       "      <td>0</td>\n",
       "      <td>0</td>\n",
       "      <td>0</td>\n",
       "      <td>0</td>\n",
       "      <td>-0.368421</td>\n",
       "      <td>0.342105</td>\n",
       "      <td>-0.447368</td>\n",
       "      <td>-0.157895</td>\n",
       "      <td>7.0</td>\n",
       "    </tr>\n",
       "    <tr>\n",
       "      <th>6079</th>\n",
       "      <td>6079</td>\n",
       "      <td>2016-05-17</td>\n",
       "      <td>Man United</td>\n",
       "      <td>Bournemouth</td>\n",
       "      <td>3</td>\n",
       "      <td>1</td>\n",
       "      <td>H</td>\n",
       "      <td>46</td>\n",
       "      <td>44</td>\n",
       "      <td>34</td>\n",
       "      <td>...</td>\n",
       "      <td>0</td>\n",
       "      <td>0</td>\n",
       "      <td>0</td>\n",
       "      <td>0</td>\n",
       "      <td>0</td>\n",
       "      <td>0.315789</td>\n",
       "      <td>-0.526316</td>\n",
       "      <td>0.552632</td>\n",
       "      <td>0.157895</td>\n",
       "      <td>-14.0</td>\n",
       "    </tr>\n",
       "  </tbody>\n",
       "</table>\n",
       "<p>5 rows × 43 columns</p>\n",
       "</div>"
      ],
      "text/plain": [
       "      Unnamed: 0        Date    HomeTeam     AwayTeam  FTHG  FTAG FTR  HTGS  \\\n",
       "6075        6075  2016-05-15       Stoke     West Ham     2     1   H    39   \n",
       "6076        6076  2016-05-15     Swansea     Man City     1     1  NH    41   \n",
       "6077        6077  2016-05-15     Watford   Sunderland     2     2  NH    38   \n",
       "6078        6078  2016-05-15   West Brom    Liverpool     1     1  NH    33   \n",
       "6079        6079  2016-05-17  Man United  Bournemouth     3     1   H    46   \n",
       "\n",
       "      ATGS  HTGC  ...    HTLossStreak5  ATWinStreak3  ATWinStreak5  \\\n",
       "6075    64    54  ...                0             0             0   \n",
       "6076    70    51  ...                0             0             0   \n",
       "6077    46    48  ...                0             0             0   \n",
       "6078    62    47  ...                0             0             0   \n",
       "6079    44    34  ...                0             0             0   \n",
       "\n",
       "     ATLossStreak3 ATLossStreak5      HTGD      ATGD   DiffPts DiffFormPts  \\\n",
       "6075             0             0 -0.394737  0.394737 -0.368421   -0.236842   \n",
       "6076             0             0 -0.263158  0.789474 -0.500000    0.026316   \n",
       "6077             0             0 -0.263158 -0.368421  0.157895   -0.131579   \n",
       "6078             0             0 -0.368421  0.342105 -0.447368   -0.157895   \n",
       "6079             0             0  0.315789 -0.526316  0.552632    0.157895   \n",
       "\n",
       "     DiffLP  \n",
       "6075   -3.0  \n",
       "6076    6.0  \n",
       "6077    2.0  \n",
       "6078    7.0  \n",
       "6079  -14.0  \n",
       "\n",
       "[5 rows x 43 columns]"
      ]
     },
     "execution_count": 2,
     "metadata": {},
     "output_type": "execute_result"
    }
   ],
   "source": [
    "df.tail(5)"
   ]
  },
  {
   "cell_type": "markdown",
   "metadata": {},
   "source": [
    "## Checking for null values"
   ]
  },
  {
   "cell_type": "code",
   "execution_count": 3,
   "metadata": {},
   "outputs": [
    {
     "data": {
      "text/plain": [
       "False"
      ]
     },
     "execution_count": 3,
     "metadata": {},
     "output_type": "execute_result"
    }
   ],
   "source": [
    "df.isnull().values.any()"
   ]
  },
  {
   "cell_type": "markdown",
   "metadata": {},
   "source": [
    "## Checking for feature correlations\n",
    "Function to visualize correlated features. The closer to yellow, the more correlated."
   ]
  },
  {
   "cell_type": "code",
   "execution_count": 4,
   "metadata": {
    "collapsed": true
   },
   "outputs": [],
   "source": [
    "def plot_corr(df, size=14):\n",
    "    \"\"\"\n",
    "    Function plots a graphical correlation matrix for each pair of columns in the dataframe.\n",
    "\n",
    "    Input:\n",
    "        df: pandas DataFrame\n",
    "        size: vertical and horizontal size of the plot\n",
    "\n",
    "    Displays:\n",
    "        matrix of correlation between columns.  Blue-cyan-yellow-red-darkred => less to more correlated\n",
    "                                                0 ------------------>  1\n",
    "                                                Expect a darkred line running from top left to bottom right\n",
    "    \"\"\"\n",
    "\n",
    "    corr = df.corr()    # data frame correlation function\n",
    "    fig, ax = plt.subplots(figsize=(size, size))\n",
    "    ax.matshow(corr)   # color code the rectangles by correlation value\n",
    "    plt.xticks(range(len(corr.columns)), corr.columns)  # draw x tick marks\n",
    "    plt.yticks(range(len(corr.columns)), corr.columns)  # draw y tick marks"
   ]
  },
  {
   "cell_type": "code",
   "execution_count": 5,
   "metadata": {
    "scrolled": false
   },
   "outputs": [
    {
     "data": {
      "image/png": "[encoded data removed]",
      "text/plain": [
       "<matplotlib.figure.Figure at 0x10eb8dba8>"
      ]
     },
     "metadata": {},
     "output_type": "display_data"
    }
   ],
   "source": [
    "plot_corr(df)"
   ]
  },
  {
   "cell_type": "markdown",
   "metadata": {},
   "source": [
    "## Cleaning data\n",
    "I want to get rid of some of the most correlated features along with irrelevant ones "
   ]
  },
  {
   "cell_type": "code",
   "execution_count": 6,
   "metadata": {
    "collapsed": true,
    "scrolled": true
   },
   "outputs": [],
   "source": [
    "del df['Unnamed: 0']\n",
    "del df['MW']\n",
    "del df['Date']\n",
    "del df['HomeTeam']\n",
    "del df['AwayTeam']\n",
    "\n",
    "del df['HTFormPtsStr']\n",
    "del df['ATFormPtsStr']\n",
    "del df['HM1']\n",
    "del df['HM2']\n",
    "del df['HM3']\n",
    "del df['HM4']\n",
    "del df['HM5']\n",
    "del df['AM1']\n",
    "del df['AM2']\n",
    "del df['AM3']\n",
    "del df['AM4']\n",
    "del df['AM5']\n"
   ]
  },
  {
   "cell_type": "markdown",
   "metadata": {},
   "source": [
    "## Reviewing after cleaning\n",
    "Some of the correlations are removed. Further work should be done to remove more correlated feautres in a real world case. "
   ]
  },
  {
   "cell_type": "code",
   "execution_count": 7,
   "metadata": {},
   "outputs": [
    {
     "data": {
      "image/png": "[encoded data removed]",
      "text/plain": [
       "<matplotlib.figure.Figure at 0x11455ec50>"
      ]
     },
     "metadata": {},
     "output_type": "display_data"
    }
   ],
   "source": [
    "plot_corr(df)"
   ]
  },
  {
   "cell_type": "markdown",
   "metadata": {},
   "source": [
    "## Preparing data\n",
    "Setting the FTR-values (Full Time Result) to H, D or A depending on the Home goals and Away goals in each match."
   ]
  },
  {
   "cell_type": "code",
   "execution_count": 8,
   "metadata": {},
   "outputs": [],
   "source": [
    "for index, row in df.iterrows():\n",
    "    hg = row['FTHG']\n",
    "    ag = row['FTAG']\n",
    "    ftr = 'D'\n",
    "    \n",
    "    if hg > ag:\n",
    "        ftr = 'H'\n",
    "    elif hg < ag:\n",
    "        ftr = 'A'\n",
    "        \n",
    "    df.at[index,'FTR'] = ftr    \n",
    "    "
   ]
  },
  {
   "cell_type": "markdown",
   "metadata": {},
   "source": [
    "## Reviewing data\n",
    "Checking that FTR-values are changed due to the home- and away goals"
   ]
  },
  {
   "cell_type": "code",
   "execution_count": 9,
   "metadata": {},
   "outputs": [
    {
     "data": {
      "text/html": [
       "<div>\n",
       "<style>\n",
       "    .dataframe thead tr:only-child th {\n",
       "        text-align: right;\n",
       "    }\n",
       "\n",
       "    .dataframe thead th {\n",
       "        text-align: left;\n",
       "    }\n",
       "\n",
       "    .dataframe tbody tr th {\n",
       "        vertical-align: top;\n",
       "    }\n",
       "</style>\n",
       "<table border=\"1\" class=\"dataframe\">\n",
       "  <thead>\n",
       "    <tr style=\"text-align: right;\">\n",
       "      <th></th>\n",
       "      <th>FTHG</th>\n",
       "      <th>FTAG</th>\n",
       "      <th>FTR</th>\n",
       "      <th>HTGS</th>\n",
       "      <th>ATGS</th>\n",
       "      <th>HTGC</th>\n",
       "      <th>ATGC</th>\n",
       "      <th>HTP</th>\n",
       "      <th>ATP</th>\n",
       "      <th>HomeTeamLP</th>\n",
       "      <th>...</th>\n",
       "      <th>HTLossStreak5</th>\n",
       "      <th>ATWinStreak3</th>\n",
       "      <th>ATWinStreak5</th>\n",
       "      <th>ATLossStreak3</th>\n",
       "      <th>ATLossStreak5</th>\n",
       "      <th>HTGD</th>\n",
       "      <th>ATGD</th>\n",
       "      <th>DiffPts</th>\n",
       "      <th>DiffFormPts</th>\n",
       "      <th>DiffLP</th>\n",
       "    </tr>\n",
       "  </thead>\n",
       "  <tbody>\n",
       "    <tr>\n",
       "      <th>6075</th>\n",
       "      <td>2</td>\n",
       "      <td>1</td>\n",
       "      <td>H</td>\n",
       "      <td>39</td>\n",
       "      <td>64</td>\n",
       "      <td>54</td>\n",
       "      <td>49</td>\n",
       "      <td>1.263158</td>\n",
       "      <td>1.631579</td>\n",
       "      <td>9.0</td>\n",
       "      <td>...</td>\n",
       "      <td>0</td>\n",
       "      <td>0</td>\n",
       "      <td>0</td>\n",
       "      <td>0</td>\n",
       "      <td>0</td>\n",
       "      <td>-0.394737</td>\n",
       "      <td>0.394737</td>\n",
       "      <td>-0.368421</td>\n",
       "      <td>-0.236842</td>\n",
       "      <td>-3.0</td>\n",
       "    </tr>\n",
       "    <tr>\n",
       "      <th>6076</th>\n",
       "      <td>1</td>\n",
       "      <td>1</td>\n",
       "      <td>D</td>\n",
       "      <td>41</td>\n",
       "      <td>70</td>\n",
       "      <td>51</td>\n",
       "      <td>40</td>\n",
       "      <td>1.210526</td>\n",
       "      <td>1.710526</td>\n",
       "      <td>8.0</td>\n",
       "      <td>...</td>\n",
       "      <td>0</td>\n",
       "      <td>0</td>\n",
       "      <td>0</td>\n",
       "      <td>0</td>\n",
       "      <td>0</td>\n",
       "      <td>-0.263158</td>\n",
       "      <td>0.789474</td>\n",
       "      <td>-0.500000</td>\n",
       "      <td>0.026316</td>\n",
       "      <td>6.0</td>\n",
       "    </tr>\n",
       "    <tr>\n",
       "      <th>6077</th>\n",
       "      <td>2</td>\n",
       "      <td>2</td>\n",
       "      <td>D</td>\n",
       "      <td>38</td>\n",
       "      <td>46</td>\n",
       "      <td>48</td>\n",
       "      <td>60</td>\n",
       "      <td>1.157895</td>\n",
       "      <td>1.000000</td>\n",
       "      <td>18.0</td>\n",
       "      <td>...</td>\n",
       "      <td>0</td>\n",
       "      <td>0</td>\n",
       "      <td>0</td>\n",
       "      <td>0</td>\n",
       "      <td>0</td>\n",
       "      <td>-0.263158</td>\n",
       "      <td>-0.368421</td>\n",
       "      <td>0.157895</td>\n",
       "      <td>-0.131579</td>\n",
       "      <td>2.0</td>\n",
       "    </tr>\n",
       "    <tr>\n",
       "      <th>6078</th>\n",
       "      <td>1</td>\n",
       "      <td>1</td>\n",
       "      <td>D</td>\n",
       "      <td>33</td>\n",
       "      <td>62</td>\n",
       "      <td>47</td>\n",
       "      <td>49</td>\n",
       "      <td>1.105263</td>\n",
       "      <td>1.552632</td>\n",
       "      <td>13.0</td>\n",
       "      <td>...</td>\n",
       "      <td>0</td>\n",
       "      <td>0</td>\n",
       "      <td>0</td>\n",
       "      <td>0</td>\n",
       "      <td>0</td>\n",
       "      <td>-0.368421</td>\n",
       "      <td>0.342105</td>\n",
       "      <td>-0.447368</td>\n",
       "      <td>-0.157895</td>\n",
       "      <td>7.0</td>\n",
       "    </tr>\n",
       "    <tr>\n",
       "      <th>6079</th>\n",
       "      <td>3</td>\n",
       "      <td>1</td>\n",
       "      <td>H</td>\n",
       "      <td>46</td>\n",
       "      <td>44</td>\n",
       "      <td>34</td>\n",
       "      <td>64</td>\n",
       "      <td>1.657895</td>\n",
       "      <td>1.105263</td>\n",
       "      <td>4.0</td>\n",
       "      <td>...</td>\n",
       "      <td>0</td>\n",
       "      <td>0</td>\n",
       "      <td>0</td>\n",
       "      <td>0</td>\n",
       "      <td>0</td>\n",
       "      <td>0.315789</td>\n",
       "      <td>-0.526316</td>\n",
       "      <td>0.552632</td>\n",
       "      <td>0.157895</td>\n",
       "      <td>-14.0</td>\n",
       "    </tr>\n",
       "  </tbody>\n",
       "</table>\n",
       "<p>5 rows × 26 columns</p>\n",
       "</div>"
      ],
      "text/plain": [
       "      FTHG  FTAG FTR  HTGS  ATGS  HTGC  ATGC       HTP       ATP  HomeTeamLP  \\\n",
       "6075     2     1   H    39    64    54    49  1.263158  1.631579         9.0   \n",
       "6076     1     1   D    41    70    51    40  1.210526  1.710526         8.0   \n",
       "6077     2     2   D    38    46    48    60  1.157895  1.000000        18.0   \n",
       "6078     1     1   D    33    62    47    49  1.105263  1.552632        13.0   \n",
       "6079     3     1   H    46    44    34    64  1.657895  1.105263         4.0   \n",
       "\n",
       "       ...    HTLossStreak5  ATWinStreak3  ATWinStreak5  ATLossStreak3  \\\n",
       "6075   ...                0             0             0              0   \n",
       "6076   ...                0             0             0              0   \n",
       "6077   ...                0             0             0              0   \n",
       "6078   ...                0             0             0              0   \n",
       "6079   ...                0             0             0              0   \n",
       "\n",
       "      ATLossStreak5      HTGD      ATGD   DiffPts  DiffFormPts  DiffLP  \n",
       "6075              0 -0.394737  0.394737 -0.368421    -0.236842    -3.0  \n",
       "6076              0 -0.263158  0.789474 -0.500000     0.026316     6.0  \n",
       "6077              0 -0.263158 -0.368421  0.157895    -0.131579     2.0  \n",
       "6078              0 -0.368421  0.342105 -0.447368    -0.157895     7.0  \n",
       "6079              0  0.315789 -0.526316  0.552632     0.157895   -14.0  \n",
       "\n",
       "[5 rows x 26 columns]"
      ]
     },
     "execution_count": 9,
     "metadata": {},
     "output_type": "execute_result"
    }
   ],
   "source": [
    "df.tail(5)"
   ]
  },
  {
   "cell_type": "code",
   "execution_count": 10,
   "metadata": {},
   "outputs": [
    {
     "name": "stdout",
     "output_type": "stream",
     "text": [
      "Number of home wins:  2816 (46.32%)\n"
     ]
    }
   ],
   "source": [
    "homewins = len(df.loc[df['FTR'] == 'H'])\n",
    "print(\"Number of home wins:  {0} ({1:2.2f}%)\".format(homewins, (homewins/len(df)) * 100))"
   ]
  },
  {
   "cell_type": "markdown",
   "metadata": {
    "collapsed": true
   },
   "source": [
    "## Splitting and preprocessing\n",
    "Using 70% of the data for training and 30% for test.\n",
    "The features are preprocessed to get normalized values.\n"
   ]
  },
  {
   "cell_type": "code",
   "execution_count": 11,
   "metadata": {
    "collapsed": true
   },
   "outputs": [],
   "source": [
    "from sklearn.model_selection import train_test_split\n",
    "from sklearn import preprocessing\n",
    "\n",
    "x = df.values #returns a numpy array\n",
    "\n",
    "# HTP - Home team avg points\n",
    "# ATP - Away team avg points\n",
    "\n",
    "# Adding feature columns\n",
    "feature_columns = ['HTP', 'ATP', 'HTFormPts', 'ATFormPts', 'DiffFormPts']\n",
    "outcome_columns = ['FTR']\n",
    "\n",
    "x = df[feature_columns].values\n",
    "y = df[outcome_columns].values\n",
    "\n",
    "# Preprocessing feature values\n",
    "min_max_scaler = preprocessing.MinMaxScaler()\n",
    "x_scaled = min_max_scaler.fit_transform(x)\n",
    "\n",
    "split_test_size = 0.30\n",
    "\n",
    "x_train, x_test, y_train, y_test = train_test_split(x_scaled, y, test_size=split_test_size, random_state=28)\n"
   ]
  },
  {
   "cell_type": "markdown",
   "metadata": {},
   "source": [
    "## Checking that the splitting is done correctly"
   ]
  },
  {
   "cell_type": "code",
   "execution_count": 12,
   "metadata": {},
   "outputs": [
    {
     "name": "stdout",
     "output_type": "stream",
     "text": [
      "70.00% in training set\n",
      "30.00% in test set\n"
     ]
    }
   ],
   "source": [
    "print(\"{0:0.2f}% in training set\".format((len(x_train)/len(df.index)) * 100))\n",
    "print(\"{0:0.2f}% in test set\".format((len(x_test)/len(df.index)) * 100))"
   ]
  },
  {
   "cell_type": "markdown",
   "metadata": {},
   "source": [
    "## Checking that there are approximately the same ratio of homewins in test and training"
   ]
  },
  {
   "cell_type": "code",
   "execution_count": 13,
   "metadata": {},
   "outputs": [
    {
     "name": "stdout",
     "output_type": "stream",
     "text": [
      "Original Homewins  : 2816 (46.32%)\n",
      "\n",
      "Training Homewins  : 1967 (46.22%)\n",
      "\n",
      "Test Homewins      : 849 (46.55%)\n"
     ]
    }
   ],
   "source": [
    "print(\"Original Homewins  : {0} ({1:0.2f}%)\".format(len(df.loc[df['FTR'] == 'H']), (len(df.loc[df['FTR'] == 'H'])/len(df.index)) * 100.0))\n",
    "print(\"\")\n",
    "print(\"Training Homewins  : {0} ({1:0.2f}%)\".format(len(y_train[y_train[:] == 'H']), (len(y_train[y_train[:] == 'H'])/len(y_train) * 100.0)))\n",
    "print(\"\")\n",
    "print(\"Test Homewins      : {0} ({1:0.2f}%)\".format(len(y_test[y_test[:] == 'H']), (len(y_test[y_test[:] == 'H'])/len(y_test) * 100.0)))"
   ]
  },
  {
   "cell_type": "markdown",
   "metadata": {},
   "source": [
    "## Run training\n",
    "Gaussian Naive Bayes, Random Forest, Logistic Regression and SVM are used to compare the results"
   ]
  },
  {
   "cell_type": "code",
   "execution_count": 14,
   "metadata": {},
   "outputs": [
    {
     "data": {
      "text/plain": [
       "SVC(C=1.0, cache_size=200, class_weight=None, coef0=0.0,\n",
       "  decision_function_shape='ovr', degree=3, gamma='auto', kernel='rbf',\n",
       "  max_iter=-1, probability=False, random_state=None, shrinking=True,\n",
       "  tol=0.001, verbose=False)"
      ]
     },
     "execution_count": 14,
     "metadata": {},
     "output_type": "execute_result"
    }
   ],
   "source": [
    "from sklearn.naive_bayes import GaussianNB\n",
    "from sklearn.ensemble import RandomForestClassifier\n",
    "from sklearn.linear_model import LogisticRegression\n",
    "from sklearn import svm\n",
    "\n",
    "nb_model = GaussianNB()\n",
    "rf_model = RandomForestClassifier(random_state=28)\n",
    "lr_model = LogisticRegression(C=0.7, random_state=28)\n",
    "svm_model = svm.SVC()\n",
    "\n",
    "\n",
    "nb_model.fit(x_train, y_train.ravel())\n",
    "rf_model.fit(x_train, y_train.ravel())\n",
    "lr_model.fit(x_train, y_train.ravel())\n",
    "svm_model.fit(x_train, y_train.ravel())"
   ]
  },
  {
   "cell_type": "markdown",
   "metadata": {},
   "source": [
    "### Checking training data performance "
   ]
  },
  {
   "cell_type": "code",
   "execution_count": 18,
   "metadata": {},
   "outputs": [
    {
     "name": "stdout",
     "output_type": "stream",
     "text": [
      "Accuracy NB: 0.5040\n",
      "Accuracy RF: 0.9218\n",
      "Accuracy LR: 0.5125\n",
      "Accuracy SVM: 0.5120\n"
     ]
    }
   ],
   "source": [
    "# import the performance metrics library\n",
    "from sklearn import metrics\n",
    "\n",
    "# predict values using the training data\n",
    "nb_predict_train = nb_model.predict(x_train)\n",
    "rf_predict_train = rf_model.predict(x_train)\n",
    "lr_predict_train = lr_model.predict(x_train)\n",
    "svm_predict_train = svm_model.predict(x_train)\n",
    "\n",
    "# Print accuracy\n",
    "print(\"Accuracy NB: {0:.4f}\".format(metrics.accuracy_score(y_train, nb_predict_train)))\n",
    "print(\"Accuracy RF: {0:.4f}\".format(metrics.accuracy_score(y_train, rf_predict_train)))\n",
    "print(\"Accuracy LR: {0:.4f}\".format(metrics.accuracy_score(y_train, lr_predict_train)))\n",
    "print(\"Accuracy SVM: {0:.4f}\".format(metrics.accuracy_score(y_train, svm_predict_train)))"
   ]
  },
  {
   "cell_type": "markdown",
   "metadata": {},
   "source": [
    "### Checking test data performance"
   ]
  },
  {
   "cell_type": "code",
   "execution_count": 19,
   "metadata": {},
   "outputs": [
    {
     "name": "stdout",
     "output_type": "stream",
     "text": [
      "Accuracy NB: 0.4962\n",
      "Accuracy RF: 0.4457\n",
      "Accuracy LR: 0.5071\n",
      "Accuracy SVM: 0.5115\n"
     ]
    }
   ],
   "source": [
    "# predict values using the testing data\n",
    "nb_predict_test = nb_model.predict(x_test)\n",
    "rf_predict_test = rf_model.predict(x_test)\n",
    "lr_predict_test = lr_model.predict(x_test)\n",
    "svm_predict_test = svm_model.predict(x_test)\n",
    "\n",
    "# Print accuracy\n",
    "print(\"Accuracy NB: {0:.4f}\".format(metrics.accuracy_score(y_test, nb_predict_test)))\n",
    "print(\"Accuracy RF: {0:.4f}\".format(metrics.accuracy_score(y_test, rf_predict_test)))\n",
    "print(\"Accuracy LR: {0:.4f}\".format(metrics.accuracy_score(y_test, lr_predict_test)))\n",
    "print(\"Accuracy SVM: {0:.4f}\".format(metrics.accuracy_score(y_test, svm_predict_test)))\n"
   ]
  },
  {
   "cell_type": "markdown",
   "metadata": {},
   "source": [
    "### Checking feature importance\n",
    "To see if some features can be removed in the next stage"
   ]
  },
  {
   "cell_type": "code",
   "execution_count": 48,
   "metadata": {},
   "outputs": [
    {
     "data": {
      "image/png": "[encoded data removed]",
      "text/plain": [
       "<matplotlib.figure.Figure at 0x11d135470>"
      ]
     },
     "metadata": {},
     "output_type": "display_data"
    },
    {
     "name": "stdout",
     "output_type": "stream",
     "text": [
      "['HTP', 'ATP', 'HTFormPts', 'ATFormPts', 'DiffFormPts']\n",
      "[ 0.26018447  0.27483529  0.11511614  0.11453469  0.23532941]\n"
     ]
    }
   ],
   "source": [
    "# Feature Importance\n",
    "\n",
    "indices = np.argsort(rf_model.feature_importances_)[::-1]\n",
    "\n",
    "plt.figure()\n",
    "plt.title(\"Feature importances\")\n",
    "plt.bar(range(x.shape[1]), rf_model.feature_importances_[indices],\n",
    "       color=\"r\", align=\"center\")\n",
    "plt.xticks(range(x.shape[1]), indices)\n",
    "plt.xlim([-1, x.shape[1]])\n",
    "plt.show()\n",
    "\n",
    "# display the relative importance of each attribute\n",
    "print(feature_columns)\n",
    "print(rf_model.feature_importances_)"
   ]
  },
  {
   "cell_type": "code",
   "execution_count": null,
   "metadata": {
    "collapsed": true
   },
   "outputs": [],
   "source": []
  }
 ],
 "metadata": {
  "kernelspec": {
   "display_name": "Python 3",
   "language": "python",
   "name": "python3"
  },
  "language_info": {
   "codemirror_mode": {
    "name": "ipython",
    "version": 3
   },
   "file_extension": ".py",
   "mimetype": "text/x-python",
   "name": "python",
   "nbconvert_exporter": "python",
   "pygments_lexer": "ipython3",
   "version": "3.6.3"
  }
 },
 "nbformat": 4,
 "nbformat_minor": 2
}
